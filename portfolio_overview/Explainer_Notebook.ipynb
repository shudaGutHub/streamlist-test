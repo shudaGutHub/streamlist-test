{
 "cells": [
  {
   "cell_type": "markdown",
   "metadata": {},
   "source": [
    "# 📈 Pull Data From Yahoo Finance"
   ]
  },
  {
   "cell_type": "markdown",
   "metadata": {
    "heading_collapsed": true
   },
   "source": [
    "# Imports"
   ]
  },
  {
   "cell_type": "code",
   "execution_count": 1,
   "metadata": {
    "hidden": true
   },
   "outputs": [],
   "source": [
    "!pip install pip install yahoofinancials --quiet\n",
    "!pip install pandas --quiet"
   ]
  },
  {
   "cell_type": "code",
   "execution_count": 2,
   "metadata": {
    "hidden": true
   },
   "outputs": [],
   "source": [
    "from yahoofinancials import YahooFinancials\n",
    "import pandas as pd"
   ]
  },
  {
   "cell_type": "markdown",
   "metadata": {
    "heading_collapsed": true
   },
   "source": [
    "# Basic Example"
   ]
  },
  {
   "cell_type": "markdown",
   "metadata": {
    "hidden": true
   },
   "source": [
    "**`YahooFinancials`** is a powerful financial data module used for pulling both fundamental and technical data from Yahoo Finance.\n",
    ">Documentation: https://github.com/JECSand/yahoofinancials\n",
    "\n",
    "**Examples of Module Methods:**<br>\n",
    "get_daily_low()<br>\n",
    "get_daily_high()<br>\n",
    "get_currency()<br>\n",
    "get_yearly_high()<br>\n",
    "get_yearly_low()<br>\n",
    "get_dividend_yield()<br>\n",
    "...<br>"
   ]
  },
  {
   "cell_type": "code",
   "execution_count": 3,
   "metadata": {
    "hidden": true
   },
   "outputs": [],
   "source": [
    "ticker =  'TSLA'"
   ]
  },
  {
   "cell_type": "code",
   "execution_count": 4,
   "metadata": {
    "hidden": true
   },
   "outputs": [
    {
     "data": {
      "text/plain": "745.89"
     },
     "execution_count": 4,
     "metadata": {},
     "output_type": "execute_result"
    }
   ],
   "source": [
    "data = YahooFinancials(ticker)\n",
    "data.get_open_price()"
   ]
  },
  {
   "cell_type": "code",
   "execution_count": 5,
   "metadata": {
    "hidden": true
   },
   "outputs": [
    {
     "data": {
      "text/plain": "{'TSLA': {'previousClose': 753.64,\n  'regularMarketOpen': 745.89,\n  'twoHundredDayAverage': 674.0442,\n  'trailingAnnualDividendYield': None,\n  'payoutRatio': 0,\n  'volume24Hr': None,\n  'regularMarketDayHigh': 774.8,\n  'navPrice': None,\n  'averageDailyVolume10Day': 19614200,\n  'totalAssets': None,\n  'regularMarketPreviousClose': 753.64,\n  'fiftyDayAverage': 725.8406,\n  'trailingAnnualDividendRate': None,\n  'open': 745.89,\n  'toCurrency': None,\n  'averageVolume10days': 19614200,\n  'expireDate': '-',\n  'yield': None,\n  'algorithm': None,\n  'dividendRate': None,\n  'exDividendDate': '-',\n  'beta': 1.961244,\n  'circulatingSupply': None,\n  'startDate': '-',\n  'regularMarketDayLow': 744.56,\n  'priceHint': 2,\n  'currency': 'USD',\n  'trailingPE': 408.21826,\n  'regularMarketVolume': 21373022,\n  'lastMarket': None,\n  'maxSupply': None,\n  'openInterest': None,\n  'marketCap': 775760642048,\n  'volumeAllCurrencies': None,\n  'strikePrice': None,\n  'averageVolume': 18811717,\n  'priceToSalesTrailing12Months': 18.53138,\n  'dayLow': 744.56,\n  'ask': 774,\n  'ytdReturn': None,\n  'askSize': 1000,\n  'volume': 21373022,\n  'fiftyTwoWeekHigh': 900.4,\n  'forwardPE': 108.91561,\n  'maxAge': 1,\n  'fromCurrency': None,\n  'fiveYearAvgDividendYield': None,\n  'fiftyTwoWeekLow': 379.11,\n  'bid': 773.55,\n  'tradeable': False,\n  'dividendYield': None,\n  'bidSize': 1000,\n  'dayHigh': 774.8}}"
     },
     "execution_count": 5,
     "metadata": {},
     "output_type": "execute_result"
    }
   ],
   "source": [
    "data.get_summary_data()"
   ]
  },
  {
   "cell_type": "markdown",
   "metadata": {
    "heading_collapsed": true
   },
   "source": [
    "# Create Your Own DataFrame"
   ]
  },
  {
   "cell_type": "code",
   "execution_count": 6,
   "metadata": {
    "hidden": true
   },
   "outputs": [
    {
     "data": {
      "text/plain": "Empty DataFrame\nColumns: []\nIndex: []",
      "text/html": "<div>\n<style scoped>\n    .dataframe tbody tr th:only-of-type {\n        vertical-align: middle;\n    }\n\n    .dataframe tbody tr th {\n        vertical-align: top;\n    }\n\n    .dataframe thead th {\n        text-align: right;\n    }\n</style>\n<table border=\"1\" class=\"dataframe\">\n  <thead>\n    <tr style=\"text-align: right;\">\n      <th></th>\n    </tr>\n  </thead>\n  <tbody>\n  </tbody>\n</table>\n</div>"
     },
     "execution_count": 6,
     "metadata": {},
     "output_type": "execute_result"
    }
   ],
   "source": [
    "# Create an empty DataFrame\n",
    "df = pd.DataFrame()\n",
    "df"
   ]
  },
  {
   "cell_type": "code",
   "execution_count": 7,
   "metadata": {
    "hidden": true
   },
   "outputs": [],
   "source": [
    "tickers = ['TSLA', 'GOOG', 'MSFT']\n",
    "for ticker in tickers:\n",
    "    # Pull data from YahooFinance\n",
    "    data = YahooFinancials(ticker)\n",
    "    open_price = data.get_open_price()\n",
    "    currency = data.get_currency()\n",
    "    yearly_high = data.get_yearly_high()\n",
    "    \n",
    "    # Create Dictonary \n",
    "    new_row = {\n",
    "        \"ticker\": ticker,\n",
    "        \"open_price\": open_price,\n",
    "        \"currency\": currency,\n",
    "        \"yearly_high\": yearly_high,\n",
    "    }\n",
    "    \n",
    "    # Append data (new row) to DataFrame\n",
    "    df = df.append(new_row, ignore_index=True)\n"
   ]
  },
  {
   "cell_type": "code",
   "execution_count": 8,
   "metadata": {
    "hidden": true
   },
   "outputs": [
    {
     "data": {
      "text/plain": "  currency  open_price ticker  yearly_high\n0      USD      745.89   TSLA       900.40\n1      USD     2818.92   GOOG      2936.41\n2      USD      298.23   MSFT       305.84",
      "text/html": "<div>\n<style scoped>\n    .dataframe tbody tr th:only-of-type {\n        vertical-align: middle;\n    }\n\n    .dataframe tbody tr th {\n        vertical-align: top;\n    }\n\n    .dataframe thead th {\n        text-align: right;\n    }\n</style>\n<table border=\"1\" class=\"dataframe\">\n  <thead>\n    <tr style=\"text-align: right;\">\n      <th></th>\n      <th>currency</th>\n      <th>open_price</th>\n      <th>ticker</th>\n      <th>yearly_high</th>\n    </tr>\n  </thead>\n  <tbody>\n    <tr>\n      <th>0</th>\n      <td>USD</td>\n      <td>745.89</td>\n      <td>TSLA</td>\n      <td>900.40</td>\n    </tr>\n    <tr>\n      <th>1</th>\n      <td>USD</td>\n      <td>2818.92</td>\n      <td>GOOG</td>\n      <td>2936.41</td>\n    </tr>\n    <tr>\n      <th>2</th>\n      <td>USD</td>\n      <td>298.23</td>\n      <td>MSFT</td>\n      <td>305.84</td>\n    </tr>\n  </tbody>\n</table>\n</div>"
     },
     "execution_count": 8,
     "metadata": {},
     "output_type": "execute_result"
    }
   ],
   "source": [
    "df"
   ]
  },
  {
   "cell_type": "code",
   "execution_count": null,
   "outputs": [],
   "source": [],
   "metadata": {
    "collapsed": false,
    "pycharm": {
     "name": "#%%\n"
    }
   }
  }
 ],
 "metadata": {
  "kernelspec": {
   "name": "pycharm-f98f1910",
   "language": "python",
   "display_name": "PyCharm (htr)"
  },
  "language_info": {
   "codemirror_mode": {
    "name": "ipython",
    "version": 3
   },
   "file_extension": ".py",
   "mimetype": "text/x-python",
   "name": "python",
   "nbconvert_exporter": "python",
   "pygments_lexer": "ipython3",
   "version": "3.8.5"
  }
 },
 "nbformat": 4,
 "nbformat_minor": 4
}