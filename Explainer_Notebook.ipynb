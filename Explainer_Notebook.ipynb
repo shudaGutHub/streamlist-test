{
 "cells": [
  {
   "cell_type": "markdown",
   "metadata": {},
   "source": [
    "# 📈 Pull Data From Yahoo Finance"
   ]
  },
  {
   "cell_type": "markdown",
   "metadata": {},
   "source": [
    "# Imports"
   ]
  },
  {
   "cell_type": "code",
   "execution_count": 1,
   "metadata": {},
   "outputs": [],
   "source": [
    "!pip install pip install yahoofinancials --quiet\n",
    "!pip install pandas --quiet"
   ]
  },
  {
   "cell_type": "code",
   "execution_count": 2,
   "metadata": {},
   "outputs": [],
   "source": [
    "from yahoofinancials import YahooFinancials\n",
    "import pandas as pd"
   ]
  },
  {
   "cell_type": "markdown",
   "metadata": {},
   "source": [
    "# Basic Example"
   ]
  },
  {
   "cell_type": "markdown",
   "metadata": {},
   "source": [
    "**`YahooFinancials`** is a powerful financial data module used for pulling both fundamental and technical data from Yahoo Finance.\n",
    ">Documentation: https://github.com/JECSand/yahoofinancials\n",
    "\n",
    "**Examples of Module Methods:**<br>\n",
    "get_daily_low()<br>\n",
    "get_daily_high()<br>\n",
    "get_currency()<br>\n",
    "get_yearly_high()<br>\n",
    "get_yearly_low()<br>\n",
    "get_dividend_yield()<br>\n",
    "...<br>"
   ]
  },
  {
   "cell_type": "code",
   "execution_count": 3,
   "metadata": {},
   "outputs": [],
   "source": [
    "ticker =  'TSLA'"
   ]
  },
  {
   "cell_type": "code",
   "execution_count": 4,
   "metadata": {},
   "outputs": [
    {
     "data": {
      "text/plain": [
       "759.6"
      ]
     },
     "execution_count": 4,
     "metadata": {},
     "output_type": "execute_result"
    }
   ],
   "source": [
    "data = YahooFinancials(ticker)\n",
    "data.get_open_price()"
   ]
  },
  {
   "cell_type": "code",
   "execution_count": 5,
   "metadata": {},
   "outputs": [
    {
     "data": {
      "text/plain": [
       "{'TSLA': {'previousClose': 754.86,\n",
       "  'regularMarketOpen': 759.6,\n",
       "  'twoHundredDayAverage': 667.01886,\n",
       "  'trailingAnnualDividendYield': None,\n",
       "  'payoutRatio': 0,\n",
       "  'volume24Hr': None,\n",
       "  'regularMarketDayHigh': 762.61,\n",
       "  'navPrice': None,\n",
       "  'averageDailyVolume10Day': 16654180,\n",
       "  'totalAssets': None,\n",
       "  'regularMarketPreviousClose': 754.86,\n",
       "  'fiftyDayAverage': 706.68384,\n",
       "  'trailingAnnualDividendRate': None,\n",
       "  'open': 759.6,\n",
       "  'toCurrency': None,\n",
       "  'averageVolume10days': 16654180,\n",
       "  'expireDate': '-',\n",
       "  'yield': None,\n",
       "  'algorithm': None,\n",
       "  'dividendRate': None,\n",
       "  'exDividendDate': '-',\n",
       "  'beta': 1.961244,\n",
       "  'circulatingSupply': None,\n",
       "  'startDate': '-',\n",
       "  'regularMarketDayLow': 734.5201,\n",
       "  'priceHint': 2,\n",
       "  'currency': 'USD',\n",
       "  'trailingPE': 388.12338,\n",
       "  'regularMarketVolume': 15184170,\n",
       "  'lastMarket': None,\n",
       "  'maxSupply': None,\n",
       "  'openInterest': None,\n",
       "  'marketCap': 737573208064,\n",
       "  'volumeAllCurrencies': None,\n",
       "  'strikePrice': None,\n",
       "  'averageVolume': 19965696,\n",
       "  'priceToSalesTrailing12Months': 17.619158,\n",
       "  'dayLow': 734.5201,\n",
       "  'ask': 0,\n",
       "  'ytdReturn': None,\n",
       "  'askSize': 900,\n",
       "  'volume': 15184170,\n",
       "  'fiftyTwoWeekHigh': 900.4,\n",
       "  'forwardPE': 104.14003,\n",
       "  'maxAge': 1,\n",
       "  'fromCurrency': None,\n",
       "  'fiveYearAvgDividendYield': None,\n",
       "  'fiftyTwoWeekLow': 351.3,\n",
       "  'bid': 0,\n",
       "  'tradeable': False,\n",
       "  'dividendYield': None,\n",
       "  'bidSize': 1400,\n",
       "  'dayHigh': 762.61}}"
      ]
     },
     "execution_count": 5,
     "metadata": {},
     "output_type": "execute_result"
    }
   ],
   "source": [
    "data.get_summary_data()"
   ]
  },
  {
   "cell_type": "markdown",
   "metadata": {},
   "source": [
    "# Create Your Own DataFrame"
   ]
  },
  {
   "cell_type": "code",
   "execution_count": 6,
   "metadata": {},
   "outputs": [
    {
     "data": {
      "text/html": [
       "<div>\n",
       "<style scoped>\n",
       "    .dataframe tbody tr th:only-of-type {\n",
       "        vertical-align: middle;\n",
       "    }\n",
       "\n",
       "    .dataframe tbody tr th {\n",
       "        vertical-align: top;\n",
       "    }\n",
       "\n",
       "    .dataframe thead th {\n",
       "        text-align: right;\n",
       "    }\n",
       "</style>\n",
       "<table border=\"1\" class=\"dataframe\">\n",
       "  <thead>\n",
       "    <tr style=\"text-align: right;\">\n",
       "      <th></th>\n",
       "    </tr>\n",
       "  </thead>\n",
       "  <tbody>\n",
       "  </tbody>\n",
       "</table>\n",
       "</div>"
      ],
      "text/plain": [
       "Empty DataFrame\n",
       "Columns: []\n",
       "Index: []"
      ]
     },
     "execution_count": 6,
     "metadata": {},
     "output_type": "execute_result"
    }
   ],
   "source": [
    "# Create an empty DataFrame\n",
    "df = pd.DataFrame()\n",
    "df"
   ]
  },
  {
   "cell_type": "code",
   "execution_count": 7,
   "metadata": {},
   "outputs": [],
   "source": [
    "tickers = ['TSLA', 'GOOG', 'MSFT']\n",
    "for ticker in tickers:\n",
    "    # Pull data from YahooFinance\n",
    "    data = YahooFinancials(ticker)\n",
    "    open_price = data.get_open_price()\n",
    "    currency = data.get_currency()\n",
    "    yearly_high = data.get_yearly_high()\n",
    "    \n",
    "    # Create Dictonary \n",
    "    new_row = {\n",
    "        \"ticker\": ticker,\n",
    "        \"open_price\": open_price,\n",
    "        \"currency\": currency,\n",
    "        \"yearly_high\": yearly_high,\n",
    "    }\n",
    "    \n",
    "    # Append data (new row) to DataFrame\n",
    "    df = df.append(new_row, ignore_index=True)\n"
   ]
  },
  {
   "cell_type": "code",
   "execution_count": 8,
   "metadata": {},
   "outputs": [
    {
     "data": {
      "text/html": [
       "<div>\n",
       "<style scoped>\n",
       "    .dataframe tbody tr th:only-of-type {\n",
       "        vertical-align: middle;\n",
       "    }\n",
       "\n",
       "    .dataframe tbody tr th {\n",
       "        vertical-align: top;\n",
       "    }\n",
       "\n",
       "    .dataframe thead th {\n",
       "        text-align: right;\n",
       "    }\n",
       "</style>\n",
       "<table border=\"1\" class=\"dataframe\">\n",
       "  <thead>\n",
       "    <tr style=\"text-align: right;\">\n",
       "      <th></th>\n",
       "      <th>currency</th>\n",
       "      <th>open_price</th>\n",
       "      <th>ticker</th>\n",
       "      <th>yearly_high</th>\n",
       "    </tr>\n",
       "  </thead>\n",
       "  <tbody>\n",
       "    <tr>\n",
       "      <th>0</th>\n",
       "      <td>USD</td>\n",
       "      <td>759.600</td>\n",
       "      <td>TSLA</td>\n",
       "      <td>900.40</td>\n",
       "    </tr>\n",
       "    <tr>\n",
       "      <th>1</th>\n",
       "      <td>USD</td>\n",
       "      <td>2908.870</td>\n",
       "      <td>GOOG</td>\n",
       "      <td>2936.41</td>\n",
       "    </tr>\n",
       "    <tr>\n",
       "      <th>2</th>\n",
       "      <td>USD</td>\n",
       "      <td>298.415</td>\n",
       "      <td>MSFT</td>\n",
       "      <td>305.84</td>\n",
       "    </tr>\n",
       "  </tbody>\n",
       "</table>\n",
       "</div>"
      ],
      "text/plain": [
       "  currency  open_price ticker  yearly_high\n",
       "0      USD     759.600   TSLA       900.40\n",
       "1      USD    2908.870   GOOG      2936.41\n",
       "2      USD     298.415   MSFT       305.84"
      ]
     },
     "execution_count": 8,
     "metadata": {},
     "output_type": "execute_result"
    }
   ],
   "source": [
    "df"
   ]
  },
  {
   "cell_type": "code",
   "execution_count": null,
   "metadata": {},
   "outputs": [],
   "source": []
  }
 ],
 "metadata": {
  "kernelspec": {
   "display_name": "Python 3",
   "language": "python",
   "name": "python3"
  },
  "language_info": {
   "codemirror_mode": {
    "name": "ipython",
    "version": 3
   },
   "file_extension": ".py",
   "mimetype": "text/x-python",
   "name": "python",
   "nbconvert_exporter": "python",
   "pygments_lexer": "ipython3",
   "version": "3.7.2"
  },
  "latex_envs": {
   "LaTeX_envs_menu_present": true,
   "autoclose": false,
   "autocomplete": true,
   "bibliofile": "biblio.bib",
   "cite_by": "apalike",
   "current_citInitial": 1,
   "eqLabelWithNumbers": true,
   "eqNumInitial": 1,
   "hotkeys": {
    "equation": "Ctrl-E",
    "itemize": "Ctrl-I"
   },
   "labels_anchors": false,
   "latex_user_defs": false,
   "report_style_numbering": false,
   "user_envs_cfg": false
  },
  "nbTranslate": {
   "displayLangs": [
    "*"
   ],
   "hotkey": "alt-t",
   "langInMainMenu": true,
   "sourceLang": "en",
   "targetLang": "fr",
   "useGoogleTranslate": true
  },
  "toc": {
   "base_numbering": 1,
   "nav_menu": {},
   "number_sections": true,
   "sideBar": true,
   "skip_h1_title": false,
   "title_cell": "Table of Contents",
   "title_sidebar": "Contents",
   "toc_cell": false,
   "toc_position": {},
   "toc_section_display": true,
   "toc_window_display": false
  },
  "varInspector": {
   "cols": {
    "lenName": 16,
    "lenType": 16,
    "lenVar": 40
   },
   "kernels_config": {
    "python": {
     "delete_cmd_postfix": "",
     "delete_cmd_prefix": "del ",
     "library": "var_list.py",
     "varRefreshCmd": "print(var_dic_list())"
    },
    "r": {
     "delete_cmd_postfix": ") ",
     "delete_cmd_prefix": "rm(",
     "library": "var_list.r",
     "varRefreshCmd": "cat(var_dic_list()) "
    }
   },
   "types_to_exclude": [
    "module",
    "function",
    "builtin_function_or_method",
    "instance",
    "_Feature"
   ],
   "window_display": false
  }
 },
 "nbformat": 4,
 "nbformat_minor": 4
}